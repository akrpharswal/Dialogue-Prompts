{
 "cells": [
  {
   "cell_type": "code",
   "execution_count": 1,
   "id": "2b2d81c8",
   "metadata": {},
   "outputs": [],
   "source": []
  },
  {
   "cell_type": "code",
   "execution_count": 40,
   "id": "e3648ba4",
   "metadata": {},
   "outputs": [
    {
     "name": "stderr",
     "output_type": "stream",
     "text": [
      "[nltk_data] Downloading package punkt to\n",
      "[nltk_data]     C:\\Users\\Hp\\AppData\\Roaming\\nltk_data...\n",
      "[nltk_data]   Package punkt is already up-to-date!\n",
      "[nltk_data] Downloading package vader_lexicon to\n",
      "[nltk_data]     C:\\Users\\Hp\\AppData\\Roaming\\nltk_data...\n",
      "[nltk_data]   Package vader_lexicon is already up-to-date!\n"
     ]
    },
    {
     "name": "stdout",
     "output_type": "stream",
     "text": [
      "But all is well \n"
     ]
    }
   ],
   "source": [
    "\n",
    "\n",
    "import nltk\n",
    "from nltk.sentiment import SentimentIntensityAnalyzer\n",
    "\n",
    "# Download the punkt resource\n",
    "nltk.download('punkt')\n",
    "nltk.download('vader_lexicon')\n",
    "\n",
    "def load_3_idiots_script(script_path):\n",
    "    with open(script_path, 'r', encoding='utf-8') as file:\n",
    "        return file.read()\n",
    "\n",
    "def extract_famous_dialogues(script, sentiment_threshold=0.2):\n",
    "    # Tokenize the script into sentences\n",
    "    sentences = nltk.sent_tokenize(script)\n",
    "    \n",
    "    # Initialize the SentimentIntensityAnalyzer\n",
    "    sia = SentimentIntensityAnalyzer()\n",
    "\n",
    "    # Extract dialogues with positive sentiment\n",
    "    famous_dialogues = []\n",
    "    for sentence in sentences:\n",
    "        sentiment_score = sia.polarity_scores(sentence)['compound']\n",
    "        if sentiment_score > sentiment_threshold:\n",
    "            famous_dialogues.append(sentence)\n",
    "\n",
    "    return famous_dialogues\n",
    "\n",
    "if __name__ == \"__main__\":\n",
    "    script_path = \"3_idiots_script.txt\"  # Change this to the actual path of the 3 Idiots script\n",
    "\n",
    "    # Load the 3 Idiots script\n",
    "    script = load_3_idiots_script(script_path)\n",
    "\n",
    "    # Extract famous dialogues based on positive sentiment\n",
    "    famous_dialogues = extract_famous_dialogues(script)\n",
    "    file_path = \"keyword.txt\"  # Replace this with the actual path to your text file\n",
    "    with open(file_path, 'r') as file:\n",
    "        keywords = file.read()\n",
    "        \n",
    "    str1 = \"\"\n",
    " \n",
    "    # traverse in the string\n",
    "    for ele in keywords:\n",
    "        str1 += ele\n",
    "    #print(\"Famous Dialogues:\")\n",
    "    \n",
    "    \n",
    "    \n",
    "    for i, dialogue in enumerate(famous_dialogues, start=1):\n",
    "        #print(f\"{i}. {dialogue}\")\n",
    "        if str1 in dialogue:\n",
    "            #print(i)\n",
    "            print(famous_dialogues[i-1][0:-15])\n"
   ]
  },
  {
   "cell_type": "code",
   "execution_count": null,
   "id": "63e66f6d",
   "metadata": {},
   "outputs": [],
   "source": []
  },
  {
   "cell_type": "code",
   "execution_count": null,
   "id": "5c12f6e7",
   "metadata": {},
   "outputs": [],
   "source": []
  }
 ],
 "metadata": {
  "kernelspec": {
   "display_name": "Python 3 (ipykernel)",
   "language": "python",
   "name": "python3"
  },
  "language_info": {
   "codemirror_mode": {
    "name": "ipython",
    "version": 3
   },
   "file_extension": ".py",
   "mimetype": "text/x-python",
   "name": "python",
   "nbconvert_exporter": "python",
   "pygments_lexer": "ipython3",
   "version": "3.10.9"
  }
 },
 "nbformat": 4,
 "nbformat_minor": 5
}
